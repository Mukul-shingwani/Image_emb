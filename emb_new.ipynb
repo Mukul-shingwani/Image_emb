{
 "cells": [
  {
   "cell_type": "code",
   "execution_count": 3,
   "metadata": {},
   "outputs": [
    {
     "name": "stdout",
     "output_type": "stream",
     "text": [
      "Downloading: 100%|\u001b[32m██████████\u001b[0m|\n"
     ]
    },
    {
     "name": "stderr",
     "output_type": "stream",
     "text": [
      "I0000 00:00:1726600711.867634 3480124 check_gcp_environment_no_op.cc:29] ALTS: Platforms other than Linux and Windows are not supported\n",
      "I0000 00:00:1726600713.425546 3480124 check_gcp_environment_no_op.cc:29] ALTS: Platforms other than Linux and Windows are not supported\n",
      "I0000 00:00:1726600713.425836 3480124 check_gcp_environment_no_op.cc:29] ALTS: Platforms other than Linux and Windows are not supported\n",
      "I0000 00:00:1726600715.518287 3480124 check_gcp_environment_no_op.cc:29] ALTS: Platforms other than Linux and Windows are not supported\n",
      "I0000 00:00:1726600716.928739 3480124 check_gcp_environment_no_op.cc:29] ALTS: Platforms other than Linux and Windows are not supported\n",
      "I0000 00:00:1726600716.929873 3480124 check_gcp_environment_no_op.cc:29] ALTS: Platforms other than Linux and Windows are not supported\n",
      "I0000 00:00:1726600719.071005 3480124 check_gcp_environment_no_op.cc:29] ALTS: Platforms other than Linux and Windows are not supported\n",
      "I0000 00:00:1726600719.577595 3480124 check_gcp_environment_no_op.cc:29] ALTS: Platforms other than Linux and Windows are not supported\n",
      "I0000 00:00:1726600719.578483 3480124 check_gcp_environment_no_op.cc:29] ALTS: Platforms other than Linux and Windows are not supported\n",
      "I0000 00:00:1726600721.834675 3480124 check_gcp_environment_no_op.cc:29] ALTS: Platforms other than Linux and Windows are not supported\n",
      "I0000 00:00:1726600723.363291 3480124 check_gcp_environment_no_op.cc:29] ALTS: Platforms other than Linux and Windows are not supported\n",
      "I0000 00:00:1726600723.363732 3480124 check_gcp_environment_no_op.cc:29] ALTS: Platforms other than Linux and Windows are not supported\n",
      "I0000 00:00:1726600725.521910 3480124 check_gcp_environment_no_op.cc:29] ALTS: Platforms other than Linux and Windows are not supported\n",
      "I0000 00:00:1726600727.042189 3480124 check_gcp_environment_no_op.cc:29] ALTS: Platforms other than Linux and Windows are not supported\n",
      "I0000 00:00:1726600727.042776 3480124 check_gcp_environment_no_op.cc:29] ALTS: Platforms other than Linux and Windows are not supported\n",
      "I0000 00:00:1726600729.211076 3480124 check_gcp_environment_no_op.cc:29] ALTS: Platforms other than Linux and Windows are not supported\n",
      "I0000 00:00:1726600730.707299 3480124 check_gcp_environment_no_op.cc:29] ALTS: Platforms other than Linux and Windows are not supported\n",
      "I0000 00:00:1726600730.708181 3480124 check_gcp_environment_no_op.cc:29] ALTS: Platforms other than Linux and Windows are not supported\n",
      "I0000 00:00:1726600732.966631 3480124 check_gcp_environment_no_op.cc:29] ALTS: Platforms other than Linux and Windows are not supported\n",
      "I0000 00:00:1726600734.408952 3480124 check_gcp_environment_no_op.cc:29] ALTS: Platforms other than Linux and Windows are not supported\n",
      "I0000 00:00:1726600734.409478 3480124 check_gcp_environment_no_op.cc:29] ALTS: Platforms other than Linux and Windows are not supported\n",
      "I0000 00:00:1726600736.684810 3480124 check_gcp_environment_no_op.cc:29] ALTS: Platforms other than Linux and Windows are not supported\n",
      "I0000 00:00:1726600738.110344 3480124 check_gcp_environment_no_op.cc:29] ALTS: Platforms other than Linux and Windows are not supported\n",
      "I0000 00:00:1726600738.111395 3480124 check_gcp_environment_no_op.cc:29] ALTS: Platforms other than Linux and Windows are not supported\n",
      "I0000 00:00:1726600740.472777 3480124 check_gcp_environment_no_op.cc:29] ALTS: Platforms other than Linux and Windows are not supported\n",
      "I0000 00:00:1726600742.001268 3480124 check_gcp_environment_no_op.cc:29] ALTS: Platforms other than Linux and Windows are not supported\n",
      "I0000 00:00:1726600742.001656 3480124 check_gcp_environment_no_op.cc:29] ALTS: Platforms other than Linux and Windows are not supported\n",
      "I0000 00:00:1726600744.385931 3480124 check_gcp_environment_no_op.cc:29] ALTS: Platforms other than Linux and Windows are not supported\n",
      "I0000 00:00:1726600744.820915 3480124 check_gcp_environment_no_op.cc:29] ALTS: Platforms other than Linux and Windows are not supported\n",
      "I0000 00:00:1726600744.821398 3480124 check_gcp_environment_no_op.cc:29] ALTS: Platforms other than Linux and Windows are not supported\n"
     ]
    }
   ],
   "source": [
    "import pandas_gbq\n",
    "import pandas as pd\n",
    "from vertexai.vision_models import Image, MultiModalEmbeddingModel\n",
    "import pickle\n",
    "import logging\n",
    "\n",
    "logger = logging.getLogger(__name__)\n",
    "\n",
    "# Function to initialize the multimodal model\n",
    "def get_multimodal_model():\n",
    "    return MultiModalEmbeddingModel.from_pretrained(\"multimodalembedding\")\n",
    "\n",
    "# Function to generate embeddings for an image URI\n",
    "def fetch_image_embeddings(image_uri: str) -> list:\n",
    "    try:\n",
    "        # Load the image from the given URI (from Google Cloud Storage)\n",
    "        image = Image.load_from_file(image_uri)\n",
    "\n",
    "        # Get embeddings using the multimodal model\n",
    "        model = get_multimodal_model()\n",
    "        embeddings = model.get_embeddings(image=image, dimension=1408)\n",
    "\n",
    "        return embeddings.image_embedding\n",
    "    except Exception as e:\n",
    "        logger.error(f\"Error generating embeddings for {image_uri}: {e}\")\n",
    "        return None\n",
    "\n",
    "# Function to create image embeddings for the entire dataframe and save to a .pkl file\n",
    "def create_image_embeddings(dataframe, output_file):\n",
    "    embeddings_list = []\n",
    "\n",
    "    for idx, row in dataframe.iterrows():\n",
    "        sku_config = row['sku_config']\n",
    "        image_uri = row['uri']  # Assuming 'uri' holds the GCS image path\n",
    "\n",
    "        try:\n",
    "            # Generate the embeddings for the image URI\n",
    "            image_embeddings = fetch_image_embeddings(image_uri)\n",
    "\n",
    "            if image_embeddings:\n",
    "                # Append to the list as a dictionary\n",
    "                embeddings_list.append({\n",
    "                    'sku_config': sku_config,\n",
    "                    'uri': image_uri,\n",
    "                    'image_embeddings': image_embeddings\n",
    "                })\n",
    "\n",
    "            logger.info(f\"Processed {sku_config} successfully\")\n",
    "\n",
    "        except Exception as e:\n",
    "            logger.error(f\"Error processing {sku_config}: {str(e)}\")\n",
    "            continue\n",
    "\n",
    "    # Convert the list of dictionaries into a DataFrame\n",
    "    embeddings_df = pd.DataFrame(embeddings_list)\n",
    "\n",
    "    # Save the embeddings dataframe to a .pkl file\n",
    "    embeddings_df.to_pickle(output_file)\n",
    "    logger.info(f\"Embeddings saved to {output_file}\")\n",
    "\n",
    "# Main function to read data from BigQuery, process images, and save embeddings\n",
    "def main():\n",
    "    # Read data from BigQuery\n",
    "    query = \"\"\"\n",
    "    SELECT sku_config, image_url, uri FROM `noonbigmerchsandbox.vamsi.sku_uri_mob_access` \n",
    "    WHERE rn <= 10\n",
    "    \"\"\"\n",
    "    bq_project = 'noon-chatbot'\n",
    "    df = pandas_gbq.read_gbq(query, project_id=bq_project)\n",
    "\n",
    "    # Define the output file for storing embeddings\n",
    "    output_file = 'image_embeddings.pkl'\n",
    "\n",
    "    # Generate embeddings and store them\n",
    "    create_image_embeddings(df, output_file)\n",
    "\n",
    "# Execute the main function\n",
    "if __name__ == \"__main__\":\n",
    "    main()\n"
   ]
  },
  {
   "cell_type": "code",
   "execution_count": 4,
   "metadata": {},
   "outputs": [],
   "source": [
    "import pickle\n",
    "with open('image_embeddings.pkl', 'rb') as f:\n",
    "    df = pickle.load(f)"
   ]
  },
  {
   "cell_type": "code",
   "execution_count": 5,
   "metadata": {},
   "outputs": [
    {
     "data": {
      "text/html": [
       "<div>\n",
       "<style scoped>\n",
       "    .dataframe tbody tr th:only-of-type {\n",
       "        vertical-align: middle;\n",
       "    }\n",
       "\n",
       "    .dataframe tbody tr th {\n",
       "        vertical-align: top;\n",
       "    }\n",
       "\n",
       "    .dataframe thead th {\n",
       "        text-align: right;\n",
       "    }\n",
       "</style>\n",
       "<table border=\"1\" class=\"dataframe\">\n",
       "  <thead>\n",
       "    <tr style=\"text-align: right;\">\n",
       "      <th></th>\n",
       "      <th>sku_config</th>\n",
       "      <th>uri</th>\n",
       "      <th>image_embeddings</th>\n",
       "    </tr>\n",
       "  </thead>\n",
       "  <tbody>\n",
       "    <tr>\n",
       "      <th>0</th>\n",
       "      <td>N11083426A</td>\n",
       "      <td>gs://noon-cdn-images/original/v1502960023/N110...</td>\n",
       "      <td>[0.0354851522, -0.0136427293, -0.0432445146, -...</td>\n",
       "    </tr>\n",
       "    <tr>\n",
       "      <th>1</th>\n",
       "      <td>N11083450A</td>\n",
       "      <td>gs://noon-cdn-images/original/v1502960033/N110...</td>\n",
       "      <td>[0.0254504904, -0.00014870899, -0.030649798, -...</td>\n",
       "    </tr>\n",
       "    <tr>\n",
       "      <th>2</th>\n",
       "      <td>N11083404A</td>\n",
       "      <td>gs://noon-cdn-images/original/v1502960019/N110...</td>\n",
       "      <td>[0.0198820084, -0.0099657746, -0.0321889669, -...</td>\n",
       "    </tr>\n",
       "    <tr>\n",
       "      <th>3</th>\n",
       "      <td>N11092925A</td>\n",
       "      <td>gs://noon-cdn-images/original/v1663854058/N110...</td>\n",
       "      <td>[0.0570469797, -0.013553923, 0.00194181805, -0...</td>\n",
       "    </tr>\n",
       "    <tr>\n",
       "      <th>4</th>\n",
       "      <td>N11083446A</td>\n",
       "      <td>gs://noon-cdn-images/original/v1502960094/N110...</td>\n",
       "      <td>[0.018271124, -0.0135514438, -0.0215694942, -0...</td>\n",
       "    </tr>\n",
       "  </tbody>\n",
       "</table>\n",
       "</div>"
      ],
      "text/plain": [
       "   sku_config                                                uri  \\\n",
       "0  N11083426A  gs://noon-cdn-images/original/v1502960023/N110...   \n",
       "1  N11083450A  gs://noon-cdn-images/original/v1502960033/N110...   \n",
       "2  N11083404A  gs://noon-cdn-images/original/v1502960019/N110...   \n",
       "3  N11092925A  gs://noon-cdn-images/original/v1663854058/N110...   \n",
       "4  N11083446A  gs://noon-cdn-images/original/v1502960094/N110...   \n",
       "\n",
       "                                    image_embeddings  \n",
       "0  [0.0354851522, -0.0136427293, -0.0432445146, -...  \n",
       "1  [0.0254504904, -0.00014870899, -0.030649798, -...  \n",
       "2  [0.0198820084, -0.0099657746, -0.0321889669, -...  \n",
       "3  [0.0570469797, -0.013553923, 0.00194181805, -0...  \n",
       "4  [0.018271124, -0.0135514438, -0.0215694942, -0...  "
      ]
     },
     "execution_count": 5,
     "metadata": {},
     "output_type": "execute_result"
    }
   ],
   "source": [
    "df.head()"
   ]
  },
  {
   "cell_type": "code",
   "execution_count": 10,
   "metadata": {},
   "outputs": [
    {
     "data": {
      "text/plain": [
       "1408"
      ]
     },
     "execution_count": 10,
     "metadata": {},
     "output_type": "execute_result"
    }
   ],
   "source": [
    "len(df['image_embeddings'].iloc[0])"
   ]
  },
  {
   "cell_type": "code",
   "execution_count": null,
   "metadata": {},
   "outputs": [],
   "source": []
  }
 ],
 "metadata": {
  "kernelspec": {
   "display_name": "Python 3",
   "language": "python",
   "name": "python3"
  },
  "language_info": {
   "codemirror_mode": {
    "name": "ipython",
    "version": 3
   },
   "file_extension": ".py",
   "mimetype": "text/x-python",
   "name": "python",
   "nbconvert_exporter": "python",
   "pygments_lexer": "ipython3",
   "version": "3.12.4"
  }
 },
 "nbformat": 4,
 "nbformat_minor": 2
}
